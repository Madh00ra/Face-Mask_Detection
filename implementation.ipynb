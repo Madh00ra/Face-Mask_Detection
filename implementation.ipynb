{
 "cells": [
  {
   "cell_type": "code",
   "execution_count": 17,
   "id": "44a82146-af15-4748-a44b-52ad982448a9",
   "metadata": {},
   "outputs": [],
   "source": [
    "# import libraries\n",
    "import numpy as np\n",
    "import pandas as pd\n",
    "import matplotlib.pyplot as plt\n",
    "import tensorflow as tf\n",
    "from tensorflow import keras\n",
    "from tensorflow.keras.preprocessing.image import ImageDataGenerator\n",
    "import warnings\n",
    "warnings.filterwarnings('ignore')"
   ]
  },
  {
   "cell_type": "code",
   "execution_count": 18,
   "id": "2069ac79-6610-4952-abd8-9d6fb019f5a3",
   "metadata": {},
   "outputs": [],
   "source": [
    "train_dir = 'data/'"
   ]
  },
  {
   "cell_type": "code",
   "execution_count": 19,
   "id": "95436e36-8c3e-4f28-9832-71d2d3f1f597",
   "metadata": {},
   "outputs": [
    {
     "name": "stdout",
     "output_type": "stream",
     "text": [
      "Found 6043 images belonging to 2 classes.\n",
      "Found 1510 images belonging to 2 classes.\n"
     ]
    }
   ],
   "source": [
    "# image data generator - data augmentation\n",
    "train_gen = ImageDataGenerator(\n",
    "    rescale=1./255, \n",
    "    validation_split=0.2,\n",
    "    rotation_range = 20,\n",
    "    zoom_range=0.2,\n",
    "    horizontal_flip=True)\n",
    "\n",
    "\n",
    "# create training object\n",
    "train_data = train_gen.flow_from_directory(\n",
    "    train_dir,\n",
    "    target_size=(150,150),\n",
    "    batch_size=32,           #no of images per batch\n",
    "    class_mode='binary',\n",
    "    subset='training')\n",
    "\n",
    "# create validation object\n",
    "val_data = train_gen.flow_from_directory(\n",
    "    train_dir,\n",
    "    target_size=(150,150),\n",
    "    batch_size=32,           #no of images per batch\n",
    "    class_mode='binary',\n",
    "    subset='validation')"
   ]
  },
  {
   "cell_type": "code",
   "execution_count": 20,
   "id": "29793682-bb5b-49c3-acfb-90bd4cc0739b",
   "metadata": {},
   "outputs": [],
   "source": [
    "# build model\n",
    "from tensorflow.keras.layers import Conv2D, MaxPooling2D,Flatten,Dense,Dropout\n",
    "from tensorflow.keras.models import Sequential\n",
    "\n",
    "model = Sequential([\n",
    "    Conv2D(32, (3,3), activation = 'relu', input_shape = (150,150,3)),\n",
    "    MaxPooling2D(2,2),\n",
    "\n",
    "    Conv2D(64,(3,3), activation = 'relu'),\n",
    "    MaxPooling2D(2,2),\n",
    "\n",
    "    Conv2D(128,(3,3), activation = 'relu'),\n",
    "    MaxPooling2D(2,2),\n",
    "\n",
    "    Flatten(),\n",
    "\n",
    "    Dense(128, activation = 'relu'),\n",
    "    Dropout(0.5),\n",
    "    Dense(1, activation= 'sigmoid')\n",
    "])"
   ]
  },
  {
   "cell_type": "code",
   "execution_count": 21,
   "id": "d2362742-2526-4360-aa1c-3b070abdb906",
   "metadata": {},
   "outputs": [],
   "source": [
    "# compile model\n",
    "model.compile(optimizer = 'adam', loss = 'binary_crossentropy', metrics = ['accuracy'])"
   ]
  },
  {
   "cell_type": "code",
   "execution_count": 22,
   "id": "e6dad93a-978e-406b-8cbb-5fbc46ce88fc",
   "metadata": {},
   "outputs": [
    {
     "name": "stdout",
     "output_type": "stream",
     "text": [
      "Epoch 1/5\n",
      "\u001b[1m189/189\u001b[0m \u001b[32m━━━━━━━━━━━━━━━━━━━━\u001b[0m\u001b[37m\u001b[0m \u001b[1m121s\u001b[0m 630ms/step - accuracy: 0.8282 - loss: 0.3945 - val_accuracy: 0.9000 - val_loss: 0.2523\n",
      "Epoch 2/5\n",
      "\u001b[1m189/189\u001b[0m \u001b[32m━━━━━━━━━━━━━━━━━━━━\u001b[0m\u001b[37m\u001b[0m \u001b[1m145s\u001b[0m 766ms/step - accuracy: 0.8885 - loss: 0.2649 - val_accuracy: 0.9391 - val_loss: 0.1757\n",
      "Epoch 3/5\n",
      "\u001b[1m189/189\u001b[0m \u001b[32m━━━━━━━━━━━━━━━━━━━━\u001b[0m\u001b[37m\u001b[0m \u001b[1m202s\u001b[0m 1s/step - accuracy: 0.9173 - loss: 0.2166 - val_accuracy: 0.9391 - val_loss: 0.1683\n",
      "Epoch 4/5\n",
      "\u001b[1m189/189\u001b[0m \u001b[32m━━━━━━━━━━━━━━━━━━━━\u001b[0m\u001b[37m\u001b[0m \u001b[1m183s\u001b[0m 969ms/step - accuracy: 0.9221 - loss: 0.1991 - val_accuracy: 0.9391 - val_loss: 0.1778\n",
      "Epoch 5/5\n",
      "\u001b[1m189/189\u001b[0m \u001b[32m━━━━━━━━━━━━━━━━━━━━\u001b[0m\u001b[37m\u001b[0m \u001b[1m170s\u001b[0m 897ms/step - accuracy: 0.9317 - loss: 0.1869 - val_accuracy: 0.9417 - val_loss: 0.1530\n"
     ]
    }
   ],
   "source": [
    "# train model\n",
    "history = model.fit(train_data, validation_data = val_data, epochs = 5)"
   ]
  },
  {
   "cell_type": "code",
   "execution_count": 23,
   "id": "74807123-9be6-4121-94e6-6acc69ded8f3",
   "metadata": {},
   "outputs": [
    {
     "name": "stdout",
     "output_type": "stream",
     "text": [
      "\u001b[1m1/1\u001b[0m \u001b[32m━━━━━━━━━━━━━━━━━━━━\u001b[0m\u001b[37m\u001b[0m \u001b[1m0s\u001b[0m 229ms/step\n",
      "Prediction: With mask\n"
     ]
    }
   ],
   "source": [
    "# for my input\n",
    "from tensorflow.keras.preprocessing import image\n",
    "\n",
    "img_path = 'sample.jpg'\n",
    "img = image.load_img(img_path, target_size = (150,150))\n",
    "img_array = image.img_to_array(img)/255.0\n",
    "img_array = np.expand_dims(img_array, axis = 0)\n",
    "\n",
    "prediction = model.predict(img_array)\n",
    "\n",
    "if prediction[0][0] > 0.5:\n",
    "    print(\"Prediction: Without mask\")\n",
    "else:\n",
    "    print(\"Prediction: With mask\")"
   ]
  },
  {
   "cell_type": "code",
   "execution_count": 25,
   "id": "07af5eaa-a6a3-4794-972e-113ef08e239e",
   "metadata": {},
   "outputs": [],
   "source": [
    "model.save(\"FaceMaskDetection.keras\")"
   ]
  },
  {
   "cell_type": "code",
   "execution_count": null,
   "id": "4edecf53-8e38-463e-a75b-c9d93d8d1d1c",
   "metadata": {},
   "outputs": [],
   "source": []
  }
 ],
 "metadata": {
  "kernelspec": {
   "display_name": "Python 3.10 (TensorFlow)",
   "language": "python",
   "name": "tf310"
  },
  "language_info": {
   "codemirror_mode": {
    "name": "ipython",
    "version": 3
   },
   "file_extension": ".py",
   "mimetype": "text/x-python",
   "name": "python",
   "nbconvert_exporter": "python",
   "pygments_lexer": "ipython3",
   "version": "3.10.18"
  }
 },
 "nbformat": 4,
 "nbformat_minor": 5
}
